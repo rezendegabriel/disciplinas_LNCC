{
 "cells": [
  {
   "cell_type": "markdown",
   "id": "0ce95c8c",
   "metadata": {},
   "source": [
    "# Bibliotecas"
   ]
  },
  {
   "cell_type": "code",
   "id": "203b70ad",
   "metadata": {
    "ExecuteTime": {
     "end_time": "2025-09-15T22:40:15.186991Z",
     "start_time": "2025-09-15T22:40:15.184256Z"
    }
   },
   "source": [
    "from scipy.optimize import minimize\n",
    "from tabulate import tabulate\n",
    "from tqdm import tqdm\n",
    "\n",
    "import matplotlib.pyplot as plt\n",
    "import numpy as np\n",
    "import pandas as pd\n",
    "import warnings\n",
    "\n",
    "warnings.filterwarnings(\"ignore\")"
   ],
   "outputs": [],
   "execution_count": 54
  },
  {
   "cell_type": "code",
   "id": "97c6f449",
   "metadata": {
    "ExecuteTime": {
     "end_time": "2025-09-15T22:40:17.148357Z",
     "start_time": "2025-09-15T22:40:17.060316Z"
    }
   },
   "source": [
    "%reset -f # clean Jupyter Variables"
   ],
   "outputs": [
    {
     "name": "stdout",
     "output_type": "stream",
     "text": [
      "Don't know how to reset  #, please run `%reset?` for details\n",
      "Don't know how to reset  clean, please run `%reset?` for details\n",
      "Don't know how to reset  jupyter, please run `%reset?` for details\n",
      "Don't know how to reset  variables, please run `%reset?` for details\n"
     ]
    }
   ],
   "execution_count": 55
  },
  {
   "cell_type": "markdown",
   "id": "0eba6418",
   "metadata": {},
   "source": [
    "# Parte I"
   ]
  },
  {
   "cell_type": "code",
   "id": "ffd2b4a8",
   "metadata": {
    "ExecuteTime": {
     "end_time": "2025-09-15T22:40:18.698769Z",
     "start_time": "2025-09-15T22:40:18.695749Z"
    }
   },
   "source": [
    "def R(x, y, a=1, b=100):\n",
    "    \"\"\"\n",
    "    Funcao de Rosenbrock R(x, y).\n",
    "\n",
    "    Parametros:\n",
    "        - x: (float ou lista de float). Variavel independente x.\n",
    "        - y: (float ou lista de float). Variavel independente y.\n",
    "        - a: (float). Constante a.\n",
    "        - b: (float). Constante b.\n",
    "    Retorno:\n",
    "        - (float ou lista de float). Valor da funcao R(x, y).\n",
    "    \"\"\"\n",
    "\n",
    "    return (a - x)**2 + b*(y - x**2)**2\n",
    "\n",
    "def grad_R(x, y, a=1, b=100):\n",
    "    \"\"\"\n",
    "    Gradiente da funcao de Rosenbrock R(x, y).\n",
    "\n",
    "    Parametros:\n",
    "        - x: (float ou lista de float). Variavel independente x.\n",
    "        - y: (float ou lista de float). Vatiavel independente y.\n",
    "        - a: (float). Constante a.\n",
    "        - b: (float). Constante b.\n",
    "    Retorno:\n",
    "        - (float ou lista de float). Gradiente da funcao R(x, y).\n",
    "    \"\"\"\n",
    "\n",
    "    dR_dx = -2*(a - x) - 4*b*x*(y - x**2)\n",
    "    dR_dy = 2*b*(y - x**2)\n",
    "\n",
    "    return np.array([dR_dx, dR_dy])\n",
    "\n",
    "def hessiana_R(x, y, b=100):\n",
    "    \"\"\"\n",
    "    Hessiana da funcao de Rosenbrock R(x, y).\n",
    "\n",
    "    Parametros:\n",
    "        - x: (float ou lista de float). Variavel independente x.\n",
    "        - y: (float ou lista de float). Vatiavel independente y.\n",
    "        - b: (float). Constante b.\n",
    "    Retorno:\n",
    "        - (float ou lista de float). Gradiente da funcao R(x, y).\n",
    "    \"\"\"\n",
    "\n",
    "    h_11 = 2 - 4*b*y + 12*b*x**2\n",
    "    h_12 = -4*b*x\n",
    "    h_13 = -4*b*y\n",
    "    h_14 = 2*b\n",
    "\n",
    "    return np.array([[h_11, h_12], [h_13, h_14]])"
   ],
   "outputs": [],
   "execution_count": 56
  },
  {
   "metadata": {},
   "cell_type": "markdown",
   "source": "## Exercício 1",
   "id": "0c2da5dd"
  },
  {
   "metadata": {},
   "cell_type": "markdown",
   "source": "### (b)",
   "id": "cc3f2b02"
  },
  {
   "metadata": {},
   "cell_type": "markdown",
   "source": "#### Caso I: regra de minimização unidimensional com $\\hat{a} = 1$.",
   "id": "7f11515b52ea184a"
  },
  {
   "cell_type": "code",
   "id": "55e79643",
   "metadata": {
    "ExecuteTime": {
     "end_time": "2025-09-15T22:40:22.225757Z",
     "start_time": "2025-09-15T22:40:22.220726Z"
    }
   },
   "source": [
    "def metodo_secao_aurea(f, a, b=1.0, tol=1e-4, max_iter=100):\n",
    "    \"\"\"\n",
    "    Metodo da Secao Aurea para minimizacao.\n",
    "\n",
    "    Parametros:\n",
    "        - f: (funcao). Funcao a ser minimizada.\n",
    "        - a: (float). Limite inferior do intervalo (inclusive).\n",
    "        - b: (float). Limite superior do intervalo (inclusive).\n",
    "        - tol: (float). Tolerancia do valor do comprimento do intervalo como primeiro criterio de parada.\n",
    "        - max_iter: (int). Numero maximo de iteracoes como segundo criterio de parada.\n",
    "    Retorno:\n",
    "        - (float). Comprimento do intervalo.\n",
    "        - (int). Numero de avaliacoes da funcao.\n",
    "    \"\"\"\n",
    "\n",
    "    rho = (np.sqrt(5) + 1)/2 # razao aurea\n",
    "    l = b - a\n",
    "    c = b - l/rho\n",
    "    d = a + l/rho\n",
    "\n",
    "    k = 0\n",
    "    while abs(c - d) > tol and k < max_iter:\n",
    "        # Atualizacao dos pontos para a proxima iteracao\n",
    "        if f(c) < f(d): # minimo esta a esquerda\n",
    "            b = d\n",
    "        else: # minimo esta a direita\n",
    "            a = c\n",
    "\n",
    "        l = b - a\n",
    "        c = b - l/rho\n",
    "        d = a + l/rho\n",
    "\n",
    "        k+=1\n",
    "\n",
    "    return (a + b)/2, 2*k\n",
    "\n",
    "def metodo_grad_busca_exata(p_0, f, grad_f, hessiana_f=None, alpha_max=1.0, tol=1e-4, max_iter=100):\n",
    "    \"\"\"\n",
    "    Metodo do Gradiente com Busca Linear Exata.\n",
    "\n",
    "    Parametros:\n",
    "        - p_0: (float ou lista de float). Coordenadas do ponto inicial.\n",
    "        - f: (funcao). Funcao f.\n",
    "        - grad_f: (funcao). Gradiente de f.\n",
    "        - hessiana_f: (funcao). Hessiana de f (metodo de Newton).\n",
    "        - alpha_max: (float). Limite superior do Metodo da Secao Aurea.\n",
    "        - tol: (float). Tolerancia para convergencia (norma do passo ou norma do gradiente de f) como primeiro criterio de parada.\n",
    "        - max_iter: (int). Numero maximo de iteracoes como segundo criterio de parada.\n",
    "    Retorno:\n",
    "        - (lista de listas):\n",
    "            Para cada iteracao:\n",
    "            - k: (int). Iteracao.\n",
    "            - [x_k, y_k]: (lista de float). Coordenadas x e y.\n",
    "            - norma_passo_k: (float). Norma do passo.\n",
    "            - norma_grad_f_k: (float). Norma do gradiente da funcao.\n",
    "            - N_f: (int). Numero acumulativo de avaliacoes de f.\n",
    "            - N_grad_f: (int). Numero acumalitivo de avliacoes do gradiente de f.\n",
    "    \"\"\"\n",
    "\n",
    "    p = p_0.copy()\n",
    "\n",
    "    N_f = 0\n",
    "    N_grad_f = 0\n",
    "\n",
    "    resultados = []\n",
    "    pbar = tqdm(range(max_iter))\n",
    "    for k in pbar:\n",
    "        grad_f_k = grad_f(p[0], p[1])\n",
    "        N_grad_f += 1\n",
    "\n",
    "        # Direcao de descida\n",
    "        if hessiana_f is None:\n",
    "            d_k = -grad_f_k\n",
    "        else:\n",
    "            try:\n",
    "                d_k = np.linalg.solve(hessiana_f, -grad_f_k)\n",
    "            except np.linalg.LinAlgError: # hessiana singular\n",
    "                d_k = -grad_f_k\n",
    "\n",
    "        def phi(alhpa): return f(p[0] + alhpa*d_k[0], p[1] + alhpa*d_k[1])\n",
    "\n",
    "        # Expande o intervalo [0, alpha_max] para garantir que contenha um minimo\n",
    "        while phi(alpha_max) < phi(alpha_max/2):\n",
    "            alpha_max *= 2\n",
    "\n",
    "        # Encontra alpha otimo utilizando secao aurea\n",
    "        alpha_otimo, N_f_phi = metodo_secao_aurea(phi, 0, alpha_max, tol, max_iter)\n",
    "        N_f += N_f_phi\n",
    "\n",
    "        p_prox = p + alpha_otimo*d_k\n",
    "\n",
    "        norma_passo_k = np.linalg.norm(p_prox - p)\n",
    "        norma_grad_f_k = np.linalg.norm(grad_f_k)\n",
    "\n",
    "        resultados.append([k+1, p.copy(), norma_passo_k, norma_grad_f_k, N_f, N_grad_f])\n",
    "\n",
    "        if norma_passo_k < tol or norma_grad_f_k < tol: break # criterio de parada\n",
    "\n",
    "        p = p_prox\n",
    "\n",
    "    return resultados"
   ],
   "outputs": [],
   "execution_count": 57
  },
  {
   "metadata": {},
   "cell_type": "markdown",
   "source": "#### Caso II: regra de Armijo com $\\hat{a} = 1$ e $\\sigma = \\theta = \\frac{1}{2}$.",
   "id": "6063d8bc14c5b367"
  },
  {
   "metadata": {
    "ExecuteTime": {
     "end_time": "2025-09-15T22:40:25.903544Z",
     "start_time": "2025-09-15T22:40:25.899394Z"
    }
   },
   "cell_type": "code",
   "source": [
    "def metodo_grad_busca_armijo(p_0, f, grad_f, hessiana_f=None, alpha_0=1.0, theta=0.5, sigma=0.5, tol=1e-4, max_iter=100):\n",
    "    \"\"\"\n",
    "    Metodo do Gradiente com Busca Linear via Regra de Armijo.\n",
    "\n",
    "    Parametros:\n",
    "        - p_0: (float ou lista de float); Coordenadas do ponto inicial.\n",
    "        - f: (funcao). Funcao f.\n",
    "        - grad_f: (funcao). Gradiente de f.\n",
    "        - hessiana_f: (funcao). Hessiana de f (metodo de Newton).\n",
    "        - alpha_0: (float). Chute inicial para o passo.\n",
    "        - theta: (float | 0 < theta < 1). Fator de reducao do passo.\n",
    "        - sigma: (float | 0 < sigma < 1). Constante de decrescimo suficiente.\n",
    "        - tol: (float). Tolerancia para convergencia (norma do passo ou norma do gradiente de f) como primeiro criterio de parada.\n",
    "        - max_iter: (int). Numero maximo de iteracoes como segundo criterio de parada.\n",
    "    Retorno:\n",
    "        - (lista de listas):\n",
    "            Para cada iteracao:\n",
    "            - k: (int). Iteracao.\n",
    "            - [x_k, y_k]: (lista de float). Coordenadas x e y.\n",
    "            - norma_passo_k: (float). Norma do passo.\n",
    "            - norma_grad_f_k: (float). Norma do gradiente da funcao.\n",
    "            - N_f: (int). Numero acumulativo de avaliacoes de f.\n",
    "            - N_grad_f: (int). Numero acumalitivo de avliacoes do gradiente de f.\n",
    "    \"\"\"\n",
    "\n",
    "    p = p_0.copy()\n",
    "\n",
    "    N_f = 0\n",
    "    N_grad_f = 0\n",
    "\n",
    "    resultados = []\n",
    "    pbar = tqdm(range(max_iter))\n",
    "    for k in pbar:\n",
    "        f_k = f(p[0], p[1])\n",
    "        grad_f_k = grad_f(p[0], p[1])\n",
    "        N_f += 1\n",
    "        N_grad_f += 1\n",
    "\n",
    "        # Direcao de descida\n",
    "        if hessiana_f is None:\n",
    "            d_k = -grad_f_k\n",
    "        else:\n",
    "            hessiana_f_k = hessiana_f(p[0], p[1])\n",
    "\n",
    "            try:\n",
    "                d_k = np.linalg.solve(hessiana_f_k, -grad_f_k)\n",
    "            except np.linalg.LinAlgError: # hessiana singular\n",
    "                d_k = -grad_f_k\n",
    "\n",
    "        alpha = alpha_0  # passo inicial\n",
    "\n",
    "        # Busca linear via regra de Armijo\n",
    "        while True:\n",
    "            p_prox = p + alpha*d_k\n",
    "            f_prox = f(p_prox[0], p_prox[1])\n",
    "            N_f += 1\n",
    "\n",
    "            # Condicao de Armijo\n",
    "            if f_prox <= f_k + sigma*alpha*np.dot(grad_f_k, d_k): break\n",
    "            alpha *= theta # reduz o passo\n",
    "\n",
    "        norma_passo_k = np.linalg.norm(p_prox - p)\n",
    "        norma_grad_f_k = np.linalg.norm(grad_f_k)\n",
    "\n",
    "        resultados.append([k+1, p.copy(), norma_passo_k, norma_grad_f_k, N_f, N_grad_f])\n",
    "\n",
    "        if norma_passo_k < tol or norma_grad_f_k < tol: break # criterio de parada\n",
    "\n",
    "        p = p_prox\n",
    "\n",
    "    return resultados"
   ],
   "id": "decb4c56bacb2abc",
   "outputs": [],
   "execution_count": 58
  },
  {
   "metadata": {},
   "cell_type": "markdown",
   "source": "#### Caso III: regra de Wolfe com $\\hat{a} = 1, \\theta = \\frac{1}{2}, \\sigma_{1} = \\frac{1}{5}$ e $\\sigma_{2} = \\frac{4}{5}$.\n",
   "id": "129e8409e64d3527"
  },
  {
   "metadata": {
    "ExecuteTime": {
     "end_time": "2025-09-15T22:40:29.399004Z",
     "start_time": "2025-09-15T22:40:29.394430Z"
    }
   },
   "cell_type": "code",
   "source": [
    "def metodo_grad_busca_wolfe(p_0, f, grad_f, hessiana_f=None, alpha_0=1.0, theta=0.5, sigma_1=0.2, sigma_2=0.8, tol=1e-4, max_iter=100):\n",
    "    \"\"\"\n",
    "    Metodo do Gradiente com Busca Linear via Regra de Wolfe.\n",
    "\n",
    "    Parametros:\n",
    "        - p_0: (float ou lista de float). Coordenadas do ponto inicial.\n",
    "        - f: (funcao). Funcao f.\n",
    "        - grad_f: (funcao). Gradiente de f.\n",
    "        - hessiana_f: (funcao). Hessiana de f (metodo de Newton).\n",
    "        - alpha_0: (float). Chute inicial para o passo.\n",
    "        - theta: (float | 0 < theta < 1). Fator de reducao do passo.\n",
    "        - sigma_1: (float | 0 < sigma_1 < sigma_2 < 1). Constante de decrescimo suficiente.\n",
    "        - sigma_2: (float | sigma_1 < sigma_2 < 1). Constante de curvatura.\n",
    "        - tol (float). Tolerancia para convergencia (norma do passo ou norma do gradiente de f) como primeiro criterio de parada.\n",
    "        - max_iter (int). Numero maximo de iteracoes como segundo criterio de parada.\n",
    "    Retorno:\n",
    "        - (lista de listas):\n",
    "            Para cada iteracao:\n",
    "            - k: (int). Iteracao.\n",
    "            - [x_k, y_k]: (lista de float). Coordenadas x e y.\n",
    "            - norma_passo_k: (float). Norma do passo.\n",
    "            - norma_grad_f_k: (float). Norma do gradiente da funcao.\n",
    "            - N_f: (int). Numero acumulativo de avaliacoes de f.\n",
    "            - N_grad_f: (int). Numero acumalitivo de avliacoes do gradiente de f.\n",
    "    \"\"\"\n",
    "\n",
    "    p = p_0.copy()\n",
    "\n",
    "    N_f = 0\n",
    "    N_grad_f = 0\n",
    "\n",
    "    resultados = []\n",
    "    pbar = tqdm(range(max_iter))\n",
    "    for k in pbar:\n",
    "        f_k = f(p[0], p[1])\n",
    "        grad_f_k = grad_f(p[0], p[1])\n",
    "        N_f += 1\n",
    "        N_grad_f += 1\n",
    "\n",
    "        # Direcao de descida\n",
    "        if hessiana_f is None:\n",
    "            d_k = -grad_f_k\n",
    "        else:\n",
    "            hessiana_f_k = hessiana_f(p[0], p[1])\n",
    "\n",
    "            try:\n",
    "                d_k = np.linalg.solve(hessiana_f_k, -grad_f_k)\n",
    "            except np.linalg.LinAlgError: # hessiana singular\n",
    "                d_k = -grad_f_k\n",
    "\n",
    "        alpha = alpha_0  # passo inicial\n",
    "\n",
    "        # Busca linear via regra de Wolfe\n",
    "        while True:\n",
    "            p_prox = p + alpha*d_k\n",
    "            f_prox = f(p_prox[0], p_prox[1])\n",
    "            N_f += 1\n",
    "\n",
    "            # Condicao de Armijo (primeira condicao de Wolfe)\n",
    "            if f_prox > f_k + sigma_1*alpha*np.dot(grad_f_k, d_k):\n",
    "                alpha *= theta # reduz o passo\n",
    "                continue\n",
    "\n",
    "            # Condicao de Curvatura (segunda condicao de Wolfe)\n",
    "            grad_f_prox = grad_f(p_prox[0], p_prox[1])\n",
    "            N_grad_f += 1\n",
    "            if np.dot(grad_f_prox, d_k) < sigma_2*np.dot(grad_f_k, d_k): alpha *= theta # reduz o passo\n",
    "            else: break\n",
    "\n",
    "        norma_passo_k = np.linalg.norm(p_prox - p)\n",
    "        norma_grad_f_k = np.linalg.norm(grad_f_k)\n",
    "\n",
    "        resultados.append([k+1, p.copy(), norma_passo_k, norma_grad_f_k, N_f, N_grad_f])\n",
    "\n",
    "        if norma_passo_k < tol or norma_grad_f_k < tol: break # criterio de parada\n",
    "\n",
    "        p = p_prox\n",
    "\n",
    "    return resultados"
   ],
   "id": "66f7d0c71f0f605b",
   "outputs": [],
   "execution_count": 59
  },
  {
   "metadata": {},
   "cell_type": "markdown",
   "source": "#### $N^{+}$",
   "id": "755241e68bdffe51"
  },
  {
   "metadata": {
    "ExecuteTime": {
     "end_time": "2025-09-15T22:41:04.394810Z",
     "start_time": "2025-09-15T22:41:04.392512Z"
    }
   },
   "cell_type": "code",
   "source": [
    "def num_k_adicionais(norma_passo_k, norma_passo_k_ant):\n",
    "    \"\"\"\n",
    "    Numero de iteracoes adicionais.\n",
    "\n",
    "    Parametros:\n",
    "        - norma_passo_k: (float). Norma do passo na iteracao k.\n",
    "        - norma_passo_k_ant: (float). Norma do passo na iteracao k-1.\n",
    "    Retorno:\n",
    "        - (float). Numero de iteracoes adicionais.\n",
    "    \"\"\"\n",
    "\n",
    "    taxa_conv = norma_passo_k/norma_passo_k_ant if norma_passo_k_ant > 0 else 1\n",
    "\n",
    "    if taxa_conv >= 1:  return float(\"inf\") # nao converge\n",
    "\n",
    "    return max(0, np.ceil(np.log(tol/norma_passo_k)/np.log(taxa_conv)))"
   ],
   "id": "3ce93d2a2e405c12",
   "outputs": [],
   "execution_count": 60
  },
  {
   "metadata": {},
   "cell_type": "markdown",
   "source": "#### Experimento",
   "id": "f7bab22ac741d23e"
  },
  {
   "metadata": {
    "ExecuteTime": {
     "end_time": "2025-09-15T22:41:06.296198Z",
     "start_time": "2025-09-15T22:41:06.199674Z"
    }
   },
   "cell_type": "code",
   "source": [
    "p_i_0 = np.array([[0.6, 0.6], [1.4, 1.4], [0.8, 0.8], [1.2, 1.2]])\n",
    "tol = 1e-4\n",
    "max_iter = 100\n",
    "\n",
    "metodos = {\"Caso I (Exata)\": metodo_grad_busca_exata,\n",
    "           \"Caso II (Armijo)\": metodo_grad_busca_armijo,\n",
    "           \"Caso III (Wolfe)\": metodo_grad_busca_wolfe}\n",
    "\n",
    "resultados_dict = {\"caso\": [],\n",
    "                   \"(x_0, y_0)\": [],\n",
    "                   \"k\": [],\n",
    "                   \"(x_k, y_k)\": [],\n",
    "                   \"norma_passo_k\": [],\n",
    "                   \"norma_grad_f_k\": [],\n",
    "                   \"N_f\": [],\n",
    "                   \"N_grad_f\": [],\n",
    "                   \"N+\": []}\n",
    "\n",
    "for caso, metodo in metodos.items():\n",
    "    print(f\"{caso}:\")\n",
    "    for p_0 in p_i_0:\n",
    "        print(f\"({p_0[0]}, {p_0[1]})...\", end=\" \")\n",
    "        resultados = metodo(p_0, R, grad_R)\n",
    "\n",
    "        resultados_dict[\"caso\"].append(caso)\n",
    "        resultados_dict[\"(x_0, y_0)\"].append(f\"({p_0[0]}, {p_0[1]})\")\n",
    "\n",
    "        k = resultados[-1][0]\n",
    "        resultados_dict[\"k\"].append(k)\n",
    "\n",
    "        x_k, y_k = resultados[-1][1]\n",
    "        resultados_dict[\"(x_k, y_k)\"].append(f\"({x_k:.4f}, {y_k:.4f})\")\n",
    "\n",
    "        norma_passo_k = resultados[-1][2]\n",
    "        resultados_dict[\"norma_passo_k\"].append(norma_passo_k)\n",
    "\n",
    "        norma_grad_f_k = resultados[-1][3]\n",
    "        resultados_dict[\"norma_grad_f_k\"].append(norma_grad_f_k)\n",
    "\n",
    "        N_f = resultados[-1][4]\n",
    "        resultados_dict[\"N_f\"].append(N_f)\n",
    "\n",
    "        N_grad_f = resultados[-1][5]\n",
    "        resultados_dict[\"N_grad_f\"].append(N_grad_f)\n",
    "\n",
    "        N_plus = num_k_adicionais(norma_passo_k, resultados[-2][2]) if k >= max_iter else 0\n",
    "\n",
    "        resultados_dict[\"N+\"].append(N_plus)\n",
    "\n",
    "        print(\"done!\")\n",
    "\n",
    "resultados_DF = pd.DataFrame(resultados_dict)\n",
    "resultados_DF.to_csv(\"tables/exer_1-b.csv\", index=False)\n",
    "resultados_tabela = tabulate(resultados_dict, headers=\"keys\", showindex=False, tablefmt=\"fancy_grid\", numalign=\"right\", floatfmt=\".4f\")\n",
    "\n",
    "print(f\"\\nTabela 1: Resultados dos Casos I, II e III em R(x, y).\")\n",
    "print(resultados_tabela)"
   ],
   "id": "49dfda430dee2fdd",
   "outputs": [
    {
     "name": "stdout",
     "output_type": "stream",
     "text": [
      "Caso I (Exata):\n",
      "(0.6, 0.6)... "
     ]
    },
    {
     "name": "stderr",
     "output_type": "stream",
     "text": [
      "100%|██████████| 100/100 [00:00<00:00, 11648.90it/s]\n"
     ]
    },
    {
     "name": "stdout",
     "output_type": "stream",
     "text": [
      "done!\n",
      "(1.4, 1.4)... "
     ]
    },
    {
     "name": "stderr",
     "output_type": "stream",
     "text": [
      "100%|██████████| 100/100 [00:00<00:00, 13825.70it/s]\n"
     ]
    },
    {
     "name": "stdout",
     "output_type": "stream",
     "text": [
      "done!\n",
      "(0.8, 0.8)... "
     ]
    },
    {
     "name": "stderr",
     "output_type": "stream",
     "text": [
      "100%|██████████| 100/100 [00:00<00:00, 12517.32it/s]\n"
     ]
    },
    {
     "name": "stdout",
     "output_type": "stream",
     "text": [
      "done!\n",
      "(1.2, 1.2)... "
     ]
    },
    {
     "name": "stderr",
     "output_type": "stream",
     "text": [
      "100%|██████████| 100/100 [00:00<00:00, 12054.33it/s]\n"
     ]
    },
    {
     "name": "stdout",
     "output_type": "stream",
     "text": [
      "done!\n",
      "Caso II (Armijo):\n",
      "(0.6, 0.6)... "
     ]
    },
    {
     "name": "stderr",
     "output_type": "stream",
     "text": [
      "100%|██████████| 100/100 [00:00<00:00, 24620.24it/s]\n"
     ]
    },
    {
     "name": "stdout",
     "output_type": "stream",
     "text": [
      "done!\n",
      "(1.4, 1.4)... "
     ]
    },
    {
     "name": "stderr",
     "output_type": "stream",
     "text": [
      "100%|██████████| 100/100 [00:00<00:00, 28051.79it/s]\n"
     ]
    },
    {
     "name": "stdout",
     "output_type": "stream",
     "text": [
      "done!\n",
      "(0.8, 0.8)... "
     ]
    },
    {
     "name": "stderr",
     "output_type": "stream",
     "text": [
      "100%|██████████| 100/100 [00:00<00:00, 24721.82it/s]\n"
     ]
    },
    {
     "name": "stdout",
     "output_type": "stream",
     "text": [
      "done!\n",
      "(1.2, 1.2)... "
     ]
    },
    {
     "name": "stderr",
     "output_type": "stream",
     "text": [
      "100%|██████████| 100/100 [00:00<00:00, 25168.34it/s]\n"
     ]
    },
    {
     "name": "stdout",
     "output_type": "stream",
     "text": [
      "done!\n",
      "Caso III (Wolfe):\n",
      "(0.6, 0.6)... "
     ]
    },
    {
     "name": "stderr",
     "output_type": "stream",
     "text": [
      "100%|██████████| 100/100 [00:00<00:00, 23912.79it/s]\n"
     ]
    },
    {
     "name": "stdout",
     "output_type": "stream",
     "text": [
      "done!\n",
      "(1.4, 1.4)... "
     ]
    },
    {
     "name": "stderr",
     "output_type": "stream",
     "text": [
      "100%|██████████| 100/100 [00:00<00:00, 17820.05it/s]\n"
     ]
    },
    {
     "name": "stdout",
     "output_type": "stream",
     "text": [
      "done!\n",
      "(0.8, 0.8)... "
     ]
    },
    {
     "name": "stderr",
     "output_type": "stream",
     "text": [
      "100%|██████████| 100/100 [00:00<00:00, 19729.55it/s]\n"
     ]
    },
    {
     "name": "stdout",
     "output_type": "stream",
     "text": [
      "done!\n",
      "(1.2, 1.2)... "
     ]
    },
    {
     "name": "stderr",
     "output_type": "stream",
     "text": [
      "100%|██████████| 100/100 [00:00<00:00, 20575.44it/s]"
     ]
    },
    {
     "name": "stdout",
     "output_type": "stream",
     "text": [
      "done!\n",
      "\n",
      "Tabela 1: Resultados dos Casos I, II e III em R(x, y).\n",
      "╒══════════════════╤══════════════╤═════╤══════════════════╤═════════════════╤══════════════════╤═══════╤════════════╤═════════╕\n",
      "│ caso             │ (x_0, y_0)   │   k │ (x_k, y_k)       │   norma_passo_k │   norma_grad_f_k │   N_f │   N_grad_f │      N+ │\n",
      "╞══════════════════╪══════════════╪═════╪══════════════════╪═════════════════╪══════════════════╪═══════╪════════════╪═════════╡\n",
      "│ Caso I (Exata)   │ (0.6, 0.6)   │ 100 │ (0.7823, 0.6100) │          0.0009 │           0.4504 │  3400 │        100 │  5.0000 │\n",
      "├──────────────────┼──────────────┼─────┼──────────────────┼─────────────────┼──────────────────┼───────┼────────────┼─────────┤\n",
      "│ Caso I (Exata)   │ (1.4, 1.4)   │ 100 │ (1.7693, 3.1320) │          0.0006 │           0.5104 │  3400 │        100 │     inf │\n",
      "├──────────────────┼──────────────┼─────┼──────────────────┼─────────────────┼──────────────────┼───────┼────────────┼─────────┤\n",
      "│ Caso I (Exata)   │ (0.8, 0.8)   │ 100 │ (0.8849, 0.7828) │          0.0004 │           0.1610 │  3400 │        100 │ 39.0000 │\n",
      "├──────────────────┼──────────────┼─────┼──────────────────┼─────────────────┼──────────────────┼───────┼────────────┼─────────┤\n",
      "│ Caso I (Exata)   │ (1.2, 1.2)   │ 100 │ (1.0991, 1.2086) │          0.0002 │           0.1364 │  3594 │        100 │  2.0000 │\n",
      "├──────────────────┼──────────────┼─────┼──────────────────┼─────────────────┼──────────────────┼───────┼────────────┼─────────┤\n",
      "│ Caso II (Armijo) │ (0.6, 0.6)   │ 100 │ (0.7897, 0.6229) │          0.0019 │           0.2408 │  1025 │        100 │     inf │\n",
      "├──────────────────┼──────────────┼─────┼──────────────────┼─────────────────┼──────────────────┼───────┼────────────┼─────────┤\n",
      "│ Caso II (Armijo) │ (1.4, 1.4)   │ 100 │ (1.1970, 1.4327) │          0.0002 │           0.4362 │  1141 │        100 │  1.0000 │\n",
      "├──────────────────┼──────────────┼─────┼──────────────────┼─────────────────┼──────────────────┼───────┼────────────┼─────────┤\n",
      "│ Caso II (Armijo) │ (0.8, 0.8)   │ 100 │ (0.8923, 0.7955) │          0.0002 │           0.1271 │  1063 │        100 │  5.0000 │\n",
      "├──────────────────┼──────────────┼─────┼──────────────────┼─────────────────┼──────────────────┼───────┼────────────┼─────────┤\n",
      "│ Caso II (Armijo) │ (1.2, 1.2)   │ 100 │ (1.0963, 1.2023) │          0.0013 │           0.0814 │  1105 │        100 │     inf │\n",
      "├──────────────────┼──────────────┼─────┼──────────────────┼─────────────────┼──────────────────┼───────┼────────────┼─────────┤\n",
      "│ Caso III (Wolfe) │ (0.6, 0.6)   │ 100 │ (0.7820, 0.6102) │          0.0021 │           0.2715 │  1010 │        200 │     inf │\n",
      "├──────────────────┼──────────────┼─────┼──────────────────┼─────────────────┼──────────────────┼───────┼────────────┼─────────┤\n",
      "│ Caso III (Wolfe) │ (1.4, 1.4)   │ 100 │ (1.2003, 1.4408) │          0.0003 │           0.3363 │  1128 │        200 │  2.0000 │\n",
      "├──────────────────┼──────────────┼─────┼──────────────────┼─────────────────┼──────────────────┼───────┼────────────┼─────────┤\n",
      "│ Caso III (Wolfe) │ (0.8, 0.8)   │ 100 │ (0.8847, 0.7827) │          0.0004 │           0.2196 │  1065 │        200 │  6.0000 │\n",
      "├──────────────────┼──────────────┼─────┼──────────────────┼─────────────────┼──────────────────┼───────┼────────────┼─────────┤\n",
      "│ Caso III (Wolfe) │ (1.2, 1.2)   │ 100 │ (1.0966, 1.2035) │          0.0003 │           0.3457 │  1074 │        200 │  1.0000 │\n",
      "╘══════════════════╧══════════════╧═════╧══════════════════╧═════════════════╧══════════════════╧═══════╧════════════╧═════════╛\n"
     ]
    },
    {
     "name": "stderr",
     "output_type": "stream",
     "text": [
      "\n"
     ]
    }
   ],
   "execution_count": 61
  },
  {
   "cell_type": "markdown",
   "id": "2461c355",
   "metadata": {},
   "source": "### (c)"
  },
  {
   "metadata": {},
   "cell_type": "markdown",
   "source": "#### Experimento",
   "id": "c3d6d32794292c2b"
  },
  {
   "cell_type": "code",
   "id": "bd30cfa4",
   "metadata": {
    "ExecuteTime": {
     "end_time": "2025-09-15T23:17:09.088627Z",
     "start_time": "2025-09-15T23:17:09.036804Z"
    }
   },
   "source": [
    "p_i_0 = np.array([[0.6, 0.6], [1.4, 1.4], [0.8, 0.8], [1.2, 1.2]])\n",
    "tol = 1e-4\n",
    "max_iter = 100\n",
    "\n",
    "metodos = {\"Caso I (Exata)\": metodo_grad_busca_exata,\n",
    "           \"Caso II (Armijo)\": metodo_grad_busca_armijo}\n",
    "\n",
    "resultados_dict = {\"caso\": [],\n",
    "                   \"(x_0, y_0)\": [],\n",
    "                   \"k\": [],\n",
    "                   \"(x_k, y_k)\": [],\n",
    "                   \"norma_passo_k\": [],\n",
    "                   \"norma_grad_f_k\": [],\n",
    "                   \"N_f\": [],\n",
    "                   \"N_grad_f\": [],\n",
    "                   \"N+\": []}\n",
    "\n",
    "for caso, metodo in metodos.items():\n",
    "    print(f\"{caso}:\")\n",
    "    for p_0 in p_i_0:\n",
    "        print(f\"({p_0[0]}, {p_0[1]})...\", end=\" \")\n",
    "        resultados = metodo(p_0, R, grad_R, hessiana_R)\n",
    "\n",
    "        resultados_dict[\"caso\"].append(caso)\n",
    "        resultados_dict[\"(x_0, y_0)\"].append(f\"({p_0[0]}, {p_0[1]})\")\n",
    "\n",
    "        k = resultados[-1][0]\n",
    "        resultados_dict[\"k\"].append(k)\n",
    "\n",
    "        x_k, y_k = resultados[-1][1]\n",
    "        resultados_dict[\"(x_k, y_k)\"].append(f\"({x_k:.4f}, {y_k:.4f})\")\n",
    "\n",
    "        norma_passo_k = resultados[-1][2]\n",
    "        resultados_dict[\"norma_passo_k\"].append(norma_passo_k)\n",
    "\n",
    "        norma_grad_f_k = resultados[-1][3]\n",
    "        resultados_dict[\"norma_grad_f_k\"].append(norma_grad_f_k)\n",
    "\n",
    "        N_f = resultados[-1][4]\n",
    "        resultados_dict[\"N_f\"].append(N_f)\n",
    "\n",
    "        N_grad_f = resultados[-1][5]\n",
    "        resultados_dict[\"N_grad_f\"].append(N_grad_f)\n",
    "\n",
    "        N_plus = num_k_adicionais(norma_passo_k, resultados[-2][2]) if k >= max_iter else 0\n",
    "\n",
    "        resultados_dict[\"N+\"].append(N_plus)\n",
    "\n",
    "        print(\"done!\")\n",
    "\n",
    "resultados_DF = pd.DataFrame(resultados_dict)\n",
    "resultados_DF.to_csv(\"tables/exer_1-c.csv\", index=False)\n",
    "resultados_tabela = tabulate(resultados_dict, headers=\"keys\", showindex=False, tablefmt=\"fancy_grid\", numalign=\"right\", floatfmt=\".4f\")\n",
    "\n",
    "print(f\"\\nTabela 2: Resultados dos Casos I, II e III em R(x, y) para o metodo de Newton.\")\n",
    "print(resultados_tabela)"
   ],
   "outputs": [
    {
     "name": "stdout",
     "output_type": "stream",
     "text": [
      "Caso I (Exata):\n",
      "(0.6, 0.6)... "
     ]
    },
    {
     "name": "stderr",
     "output_type": "stream",
     "text": [
      "100%|██████████| 100/100 [00:00<00:00, 15901.37it/s]\n"
     ]
    },
    {
     "name": "stdout",
     "output_type": "stream",
     "text": [
      "done!\n",
      "(1.4, 1.4)... "
     ]
    },
    {
     "name": "stderr",
     "output_type": "stream",
     "text": [
      "100%|██████████| 100/100 [00:00<00:00, 17897.61it/s]\n"
     ]
    },
    {
     "name": "stdout",
     "output_type": "stream",
     "text": [
      "done!\n",
      "(0.8, 0.8)... "
     ]
    },
    {
     "name": "stderr",
     "output_type": "stream",
     "text": [
      "100%|██████████| 100/100 [00:00<00:00, 12622.80it/s]\n"
     ]
    },
    {
     "name": "stdout",
     "output_type": "stream",
     "text": [
      "done!\n",
      "(1.2, 1.2)... "
     ]
    },
    {
     "name": "stderr",
     "output_type": "stream",
     "text": [
      "100%|██████████| 100/100 [00:00<00:00, 18528.53it/s]\n"
     ]
    },
    {
     "name": "stdout",
     "output_type": "stream",
     "text": [
      "done!\n",
      "Caso II (Armijo):\n",
      "(0.6, 0.6)... "
     ]
    },
    {
     "name": "stderr",
     "output_type": "stream",
     "text": [
      "100%|██████████| 100/100 [00:00<00:00, 39524.16it/s]\n"
     ]
    },
    {
     "name": "stdout",
     "output_type": "stream",
     "text": [
      "done!\n",
      "(1.4, 1.4)... "
     ]
    },
    {
     "name": "stderr",
     "output_type": "stream",
     "text": [
      "  1%|          | 1/100 [00:00<00:00, 2239.35it/s]\n"
     ]
    },
    {
     "name": "stdout",
     "output_type": "stream",
     "text": [
      "done!\n",
      "(0.8, 0.8)... "
     ]
    },
    {
     "name": "stderr",
     "output_type": "stream",
     "text": [
      " 73%|███████▎  | 73/100 [00:00<00:00, 34837.20it/s]\n"
     ]
    },
    {
     "name": "stdout",
     "output_type": "stream",
     "text": [
      "done!\n",
      "(1.2, 1.2)... "
     ]
    },
    {
     "name": "stderr",
     "output_type": "stream",
     "text": [
      "  1%|          | 1/100 [00:00<00:00, 2211.02it/s]"
     ]
    },
    {
     "name": "stdout",
     "output_type": "stream",
     "text": [
      "done!\n",
      "\n",
      "Tabela 2: Resultados dos Casos I, II e III em R(x, y) para o metodo de Newton.\n",
      "╒══════════════════╤══════════════╤═════╤══════════════════╤═════════════════╤══════════════════╤═══════╤════════════╤══════════╕\n",
      "│ caso             │ (x_0, y_0)   │   k │ (x_k, y_k)       │   norma_passo_k │   norma_grad_f_k │   N_f │   N_grad_f │       N+ │\n",
      "╞══════════════════╪══════════════╪═════╪══════════════════╪═════════════════╪══════════════════╪═══════╪════════════╪══════════╡\n",
      "│ Caso I (Exata)   │ (0.6, 0.6)   │ 100 │ (0.7823, 0.6100) │          0.0009 │           0.4504 │  3400 │        100 │   5.0000 │\n",
      "├──────────────────┼──────────────┼─────┼──────────────────┼─────────────────┼──────────────────┼───────┼────────────┼──────────┤\n",
      "│ Caso I (Exata)   │ (1.4, 1.4)   │ 100 │ (1.7693, 3.1320) │          0.0006 │           0.5104 │  3400 │        100 │      inf │\n",
      "├──────────────────┼──────────────┼─────┼──────────────────┼─────────────────┼──────────────────┼───────┼────────────┼──────────┤\n",
      "│ Caso I (Exata)   │ (0.8, 0.8)   │ 100 │ (0.8849, 0.7828) │          0.0004 │           0.1610 │  3400 │        100 │  39.0000 │\n",
      "├──────────────────┼──────────────┼─────┼──────────────────┼─────────────────┼──────────────────┼───────┼────────────┼──────────┤\n",
      "│ Caso I (Exata)   │ (1.2, 1.2)   │ 100 │ (1.0991, 1.2086) │          0.0002 │           0.1364 │  3594 │        100 │   2.0000 │\n",
      "├──────────────────┼──────────────┼─────┼──────────────────┼─────────────────┼──────────────────┼───────┼────────────┼──────────┤\n",
      "│ Caso II (Armijo) │ (0.6, 0.6)   │ 100 │ (0.9809, 0.9621) │          0.0050 │           0.0206 │   205 │        100 │ 257.0000 │\n",
      "├──────────────────┼──────────────┼─────┼──────────────────┼─────────────────┼──────────────────┼───────┼────────────┼──────────┤\n",
      "│ Caso II (Armijo) │ (1.4, 1.4)   │   2 │ (1.3965, 1.9501) │          0.0000 │           0.7999 │    48 │          2 │   0.0000 │\n",
      "├──────────────────┼──────────────┼─────┼──────────────────┼─────────────────┼──────────────────┼───────┼────────────┼──────────┤\n",
      "│ Caso II (Armijo) │ (0.8, 0.8)   │  74 │ (1.0000, 0.9999) │          0.0001 │           0.0001 │   153 │         74 │   0.0000 │\n",
      "├──────────────────┼──────────────┼─────┼──────────────────┼─────────────────┼──────────────────┼───────┼────────────┼──────────┤\n",
      "│ Caso II (Armijo) │ (1.2, 1.2)   │   2 │ (1.1959, 1.4302) │          0.0000 │           0.3998 │    48 │          2 │   0.0000 │\n",
      "╘══════════════════╧══════════════╧═════╧══════════════════╧═════════════════╧══════════════════╧═══════╧════════════╧══════════╛\n"
     ]
    },
    {
     "name": "stderr",
     "output_type": "stream",
     "text": [
      "\n"
     ]
    }
   ],
   "execution_count": 68
  },
  {
   "metadata": {},
   "cell_type": "markdown",
   "source": "# Parte II",
   "id": "a281d3c26ddf3af8"
  },
  {
   "metadata": {
    "ExecuteTime": {
     "end_time": "2025-09-15T22:41:27.961253Z",
     "start_time": "2025-09-15T22:41:27.957514Z"
    }
   },
   "cell_type": "code",
   "source": [
    "def J(p):\n",
    "    \"\"\"\n",
    "    Funcao J(x, y).\n",
    "\n",
    "    Parametros:\n",
    "        - p: (float ou lista de float). Coordenadas (x, y).\n",
    "    Retorno:\n",
    "        - (float ou lista de float). Valor da funcao.\n",
    "    \"\"\"\n",
    "\n",
    "    return (p[0] - 6)**2 + (p[1] - 7)**2\n",
    "\n",
    "def psi_J(p):\n",
    "    \"\"\"\n",
    "    Funcao penalizadora de J(x, y).\n",
    "\n",
    "    Parametros:\n",
    "        - p: (float ou lista de float). Coordenadas (x, y).\n",
    "    Retorno:\n",
    "        - (float ou lista de float). Valor da funcao.\n",
    "    \"\"\"\n",
    "\n",
    "    g_1 = max(0, (2/3)*p[0] - p[1] - 4/3)\n",
    "    g_2 = max(0, p[0] + p[1] - 7)\n",
    "    g_3 = max(0, -p[0] + p[1] - 3)\n",
    "    g_4 = max(0, -3*p[0] - 2*p[1] + 6)\n",
    "\n",
    "    return g_1**2 + g_2**2 + g_3**2 + g_4**2\n",
    "\n",
    "def phi_J(p, c_k):\n",
    "    \"\"\"\n",
    "    Funcao objetivo aumentada de J(x, y).\n",
    "\n",
    "    Parametros:\n",
    "        - p: (float ou lista de float). Coordenadas (x, y).\n",
    "        - c_k: (float ou lista de float). Sequencia de penalidade.\n",
    "    Retorno:\n",
    "        - (float ou lista de float). Valor da funcao.\n",
    "    \"\"\"\n",
    "\n",
    "    return J(p) + c_k*psi_J(p)"
   ],
   "id": "4e970f45571f2f63",
   "outputs": [],
   "execution_count": 62
  },
  {
   "metadata": {},
   "cell_type": "markdown",
   "source": "## Exercício 2",
   "id": "6901f045d48ef97b"
  },
  {
   "metadata": {},
   "cell_type": "markdown",
   "source": "### (a)",
   "id": "acd131208c4a8189"
  },
  {
   "metadata": {
    "ExecuteTime": {
     "end_time": "2025-09-15T22:41:30.439286Z",
     "start_time": "2025-09-15T22:41:30.436705Z"
    }
   },
   "cell_type": "code",
   "source": [
    "def metodo_penalizacao_externa(p_0, c_k, phi, psi, tol=1e-4, max_iter=100):\n",
    "    \"\"\"\n",
    "    Metodo de Penalizacao Externa.\n",
    "\n",
    "    Parametros:\n",
    "        - p_0: (float ou lista de float). Coordenadas do ponto inicial.\n",
    "        - c_k: (float ou lista de float). Sequencia de penalidade.\n",
    "        - phi: (funcao). Funcao objetivo aumentada.\n",
    "        - psi: (funcao). Funcao penalizadora.\n",
    "        - tol (float). Tolerancia para convergencia (valor da funcao penalizadora) como primeiro criterio de parada.\n",
    "        - max_iter (int). Numero maximo de iteracoes como segundo criterio de parada.\n",
    "    Retorno:\n",
    "        - (lista de listas). Pontos de aproximacao.\n",
    "\n",
    "    \"\"\"\n",
    "\n",
    "    p = p_0.copy()\n",
    "\n",
    "    resultados = []\n",
    "    for k, c in enumerate(c_k):\n",
    "        # Resolve min phi(p, c_k) utilizando um metodo irrestrito\n",
    "        resultado = minimize(lambda p: phi(p, k), p,\n",
    "                             method=\"BFGS\", options={\"maxiter\": max_iter})\n",
    "\n",
    "        p = resultado.x\n",
    "        resultados.append(p)\n",
    "\n",
    "        if psi(p) < tol: break # verificar violacao das restricoes\n",
    "\n",
    "    return np.array(resultados)"
   ],
   "id": "a7a8c57025b8bf63",
   "outputs": [],
   "execution_count": 63
  },
  {
   "metadata": {},
   "cell_type": "markdown",
   "source": "### (b)",
   "id": "302bc73ab1e8be0a"
  },
  {
   "metadata": {
    "ExecuteTime": {
     "end_time": "2025-09-15T22:41:34.742548Z",
     "start_time": "2025-09-15T22:41:34.713662Z"
    }
   },
   "cell_type": "code",
   "source": [
    "p_i_0 = np.array([[6.0, 7.0], [0.0, 0.0], [-30.0, -20.0], [60.0, 70.0]])\n",
    "\n",
    "c_k = [10**k for k in range(0, 11)] # sequencia de penalidade\n",
    "\n",
    "resultados_dict = {\"(x_0, y_0)\": [],\n",
    "                   \"k\": [],\n",
    "                   \"(x_k, y_k)\": [],\n",
    "                   \"f_k\": [],\n",
    "                   \"psi_k\": []}\n",
    "\n",
    "for p_0 in p_i_0:\n",
    "    resultados = metodo_penalizacao_externa(p_0, c_k, phi_J, psi_J)\n",
    "\n",
    "    resultados_dict[\"(x_0, y_0)\"].append(f\"({p_0[0]}, {p_0[1]})\")\n",
    "    resultados_dict[\"k\"].append(f\"{len(resultados)}\")\n",
    "    resultados_dict[\"(x_k, y_k)\"].append(f\"({resultados[-1][0]:.4f}, {resultados[-1][1]:.4f})\")\n",
    "    resultados_dict[\"f_k\"].append(f\"{J(resultados[-1]):.4f}\")\n",
    "    resultados_dict[\"psi_k\"].append(f\"{psi_J(resultados[-1]):.4f}\")\n",
    "\n",
    "resultados_DF = pd.DataFrame(resultados_dict)\n",
    "resultados_DF.to_csv(\"tables/exer_2-b.csv\", index=False)\n",
    "resultados_tabela = tabulate(resultados_dict, headers=\"keys\", showindex=False, tablefmt=\"fancy_grid\", numalign=\"right\", floatfmt=\".4f\")\n",
    "\n",
    "print(f\"\\nTabela 3: Resultados do Metodo de Penalizacao Externa para diferentes pontos iniciais em J(x, y).\")\n",
    "print(resultados_tabela)"
   ],
   "id": "a429564c252fe7c0",
   "outputs": [
    {
     "name": "stdout",
     "output_type": "stream",
     "text": [
      "\n",
      "Tabela 3: Resultados do metodo de penalizacao externa em J(x, y).\n",
      "╒════════════════╤═════╤══════════════════╤═════════╤═════════╕\n",
      "│ (x_0, y_0)     │   k │ (x_k, y_k)       │     f_k │   psi_k │\n",
      "╞════════════════╪═════╪══════════════════╪═════════╪═════════╡\n",
      "│ (6.0, 7.0)     │  11 │ (3.1429, 4.1429) │ 16.3265 │  0.0816 │\n",
      "├────────────────┼─────┼──────────────────┼─────────┼─────────┤\n",
      "│ (0.0, 0.0)     │  11 │ (3.1429, 4.1429) │ 16.3265 │  0.0816 │\n",
      "├────────────────┼─────┼──────────────────┼─────────┼─────────┤\n",
      "│ (-30.0, -20.0) │  11 │ (3.1429, 4.1429) │ 16.3265 │  0.0816 │\n",
      "├────────────────┼─────┼──────────────────┼─────────┼─────────┤\n",
      "│ (60.0, 70.0)   │  11 │ (3.1429, 4.1429) │ 16.3265 │  0.0816 │\n",
      "╘════════════════╧═════╧══════════════════╧═════════╧═════════╛\n"
     ]
    }
   ],
   "execution_count": 64
  },
  {
   "metadata": {},
   "cell_type": "markdown",
   "source": "### (c)",
   "id": "50a809ef47da4b44"
  },
  {
   "metadata": {
    "ExecuteTime": {
     "end_time": "2025-09-16T01:00:24.946139Z",
     "start_time": "2025-09-16T01:00:24.427055Z"
    }
   },
   "cell_type": "code",
   "source": [
    "plt.rcParams.update({\n",
    "        \"font.family\": \"serif\",\n",
    "        \"font.serif\": [\"Times\"],\n",
    "        \"text.latex.preamble\": r'\\usepackage{amsfonts}',\n",
    "        \"text.usetex\": True\n",
    "    })\n",
    "px = 1/plt.rcParams[\"figure.dpi\"]\n",
    "\n",
    "\"\"\"\n",
    "Regiao viavel: definir poligono\n",
    "Restricoes:\n",
    "    - g1: (2/3)x - y <= 4/3 => y >= (2/3)x - 4/3\n",
    "    - g2: x + y <= 7        => y <= 7 - x\n",
    "    - g3: x - y >= -3       => y <= x + 3\n",
    "    - g4: 3x + 2y >= 6      => y >= (6 - 3x)/2\n",
    "\"\"\"\n",
    "\n",
    "xs = np.linspace(0, 6, 100)\n",
    "y_g1 = (2/3)*xs - 4/3\n",
    "y_g2 = 7 - xs\n",
    "y_g3 = xs + 3\n",
    "y_g4 = (6 - 3*xs)/2\n",
    "\n",
    "\"\"\"\n",
    "Regiao viavel = Intersecao:\n",
    "    y >= y_g1, y <= y_g2, y <= y_g3, y >= y_g4\n",
    "Portanto, y entre max(y_g1, y_g4) e min(y_g2, y_g3).\n",
    "\"\"\"\n",
    "\n",
    "y_inf = np.maximum(y_g1, y_g4)\n",
    "y_sup = np.minimum(y_g2, y_g3)\n",
    "\n",
    "# Curvas de nivel de J\n",
    "X, Y = np.meshgrid(np.linspace(0, 6, 100), np.linspace(0, 8, 100))\n",
    "Z = (X - 6)**2 + (Y - 7)**2\n",
    "\n",
    "p_0 = np.array([0.0, 0.0])\n",
    "resultados = metodo_penalizacao_externa(p_0, c_k, phi_J, psi_J)\n",
    "\n",
    "# Plot\n",
    "fig, eixo = plt.subplots(1, figsize=(800*px, 800*px))\n",
    "plt.plot(xs, y_g1, label=r'$g_1: y \\geq \\frac{2}{3}x - \\frac{4}{3}$', color=\"blue\")\n",
    "plt.plot(xs, y_g2, label=r'$g_2: y \\leq 7 - x$', color=\"orange\")\n",
    "plt.plot(xs, y_g3, label=r'$g_3: y \\leq x + 3$', color=\"green\")\n",
    "plt.plot(xs, y_g4, label=r'$g_4: y \\geq \\frac{6 - 3x}{2}$', color=\"red\")\n",
    "plt.fill_between(xs, y_inf, y_sup, color=\"gray\", alpha=0.3, label=\"Região viável\")\n",
    "\n",
    "plt.contour(X, Y, Z, levels=20, cmap=\"viridis\")\n",
    "cbar = plt.colorbar()\n",
    "cbar.set_label(label=r'$J(x,y)$', fontsize=14, labelpad=15)\n",
    "\n",
    "# Sequencia de pontos\n",
    "plt.plot(resultados[:,0], resultados[:,1], \"co-\", label=\"Iterações\")\n",
    "plt.plot(resultados[-1,0], resultados[-1,1], \"mo-\", label=\"Solução final\")\n",
    "plt.plot(3, 4, \"k*\", markersize=10, label=\"Ótimo (3,4)\")\n",
    "\n",
    "# Configurações\n",
    "plt.xlim(0, 6)\n",
    "plt.ylim(0, 8)\n",
    "plt.legend(loc=\"best\", frameon=True, fontsize=12)\n",
    "plt.xlabel(\"x\", labelpad=7.5, fontsize=15)\n",
    "plt.ylabel(\"y\", labelpad=7.5, fontsize=15)\n",
    "eixo.tick_params(pad=6, labelsize=12)\n",
    "plt.title(r'Método de Penalização Externa para $x^{0}=(0,0)$ em $J(x, y)$.', pad=7.5, fontsize=15)\n",
    "\n",
    "plt.show()\n",
    "fig.savefig(f\"figures/exer_2-c.pdf\", bbox_inches=\"tight\", pad_inches=0)"
   ],
   "id": "743433dacd31cd12",
   "outputs": [
    {
     "data": {
      "text/plain": [
       "<Figure size 800x800 with 2 Axes>"
      ],
      "image/png": "[encoded data removed]"
     },
     "metadata": {},
     "output_type": "display_data",
     "jetTransient": {
      "display_id": null
     }
    }
   ],
   "execution_count": 70
  }
 ],
 "metadata": {
  "kernelspec": {
   "display_name": "ga034",
   "language": "python",
   "name": "python3"
  },
  "language_info": {
   "codemirror_mode": {
    "name": "ipython",
    "version": 3
   },
   "file_extension": ".py",
   "mimetype": "text/x-python",
   "name": "python",
   "nbconvert_exporter": "python",
   "pygments_lexer": "ipython3",
   "version": "3.12.3"
  }
 },
 "nbformat": 4,
 "nbformat_minor": 5
}
